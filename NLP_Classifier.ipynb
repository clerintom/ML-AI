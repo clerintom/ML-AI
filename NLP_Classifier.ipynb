{
  "nbformat": 4,
  "nbformat_minor": 0,
  "metadata": {
    "colab": {
      "provenance": [],
      "authorship_tag": "ABX9TyO8qrWsWgvNXP9sKLoToJCV",
      "include_colab_link": true
    },
    "kernelspec": {
      "name": "python3",
      "display_name": "Python 3"
    },
    "language_info": {
      "name": "python"
    }
  },
  "cells": [
    {
      "cell_type": "markdown",
      "metadata": {
        "id": "view-in-github",
        "colab_type": "text"
      },
      "source": [
        "<a href=\"https://colab.research.google.com/github/clerintom/ML-AI/blob/main/NLP_Classifier.ipynb\" target=\"_parent\"><img src=\"https://colab.research.google.com/assets/colab-badge.svg\" alt=\"Open In Colab\"/></a>"
      ]
    },
    {
      "cell_type": "markdown",
      "source": [
        "###Case study NLP classifier\n",
        "\n",
        "The dataset contains 5573 emails where they are labeled as spam and ham, where 4825 are ham\n",
        "(non spam) and 747 spam emails. We need to build a NLP classifier that specially uses word2vec\n",
        "from Google. Divide the dataset into 80 and 20 percent and build 3 types of models\n",
        "1. CBOW\n",
        "2. Skipgram\n",
        "3. Pretrained word2vec model from Google\n",
        "\n",
        "Please do necessary pre-processing methods before building the NLP classification model"
      ],
      "metadata": {
        "id": "A9D6CMx5KG-7"
      }
    },
    {
      "cell_type": "code",
      "source": [],
      "metadata": {
        "id": "Nki_z5rqKUxh"
      },
      "execution_count": null,
      "outputs": []
    }
  ]
}